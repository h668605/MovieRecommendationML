{
 "cells": [
  {
   "cell_type": "markdown",
   "id": "8fef973d-2857-4984-aaed-f9296dcb1cf4",
   "metadata": {},
   "source": [
    "## A notebook to visualize data from the Letterboxed dataset to use in a Movie recomandation model"
   ]
  },
  {
   "cell_type": "markdown",
   "id": "9a590546-e8ac-49b9-8693-48202fcbd46b",
   "metadata": {},
   "source": [
    "### Imports"
   ]
  },
  {
   "cell_type": "code",
   "id": "1f25a509-cc1f-47ab-a5f4-dcdb4b2650c2",
   "metadata": {
    "ExecuteTime": {
     "end_time": "2024-11-04T13:49:26.368145Z",
     "start_time": "2024-11-04T13:49:23.552248Z"
    }
   },
   "source": [
    "%matplotlib inline\n",
    "import matplotlib\n",
    "import matplotlib.pyplot as plt\n",
    "import seaborn as sns\n",
    "import numpy as np\n",
    "import pandas as pd\n",
    "import sklearn"
   ],
   "outputs": [],
   "execution_count": 9
  },
  {
   "cell_type": "markdown",
   "id": "f37149ce-6a75-4e4b-a143-80c8d93a57c8",
   "metadata": {},
   "source": [
    "### Importing the files"
   ]
  },
  {
   "cell_type": "code",
   "id": "bb745c5d-90e8-492c-ad07-b7332081ddb8",
   "metadata": {
    "ExecuteTime": {
     "end_time": "2024-11-04T13:49:49.538055Z",
     "start_time": "2024-11-04T13:49:33.519948Z"
    }
   },
   "source": [
    "movies = pd.read_csv(\"C:/Users/ranhe/PycharmProjects/MovieRecomandation/archive/movie_data.csv\", lineterminator='\\n')\n",
    "ratings = pd.read_csv(\"C:/Users/ranhe/PycharmProjects/MovieRecomandation/archive/ratings_export.csv\")\n",
    "users = pd.read_csv(\"C:/Users/ranhe/PycharmProjects/MovieRecomandation/archive/users_export.csv\")"
   ],
   "outputs": [],
   "execution_count": 10
  },
  {
   "cell_type": "markdown",
   "id": "70878553-9eee-4dab-bbdc-72fdadc61923",
   "metadata": {},
   "source": [
    "### Heading the data to see how it is setup "
   ]
  },
  {
   "cell_type": "code",
   "id": "35f4fc1f-b5ba-4f58-b701-995c2d6dd00a",
   "metadata": {
    "ExecuteTime": {
     "end_time": "2024-11-04T13:50:30.772328Z",
     "start_time": "2024-11-04T13:50:30.725015Z"
    }
   },
   "source": [
    "movies.head()"
   ],
   "outputs": [
    {
     "data": {
      "text/plain": [
       "                        _id                 genres  \\\n",
       "0  5fc85f606758f69634496fd3  [\"Music\",\"Animation\"]   \n",
       "1  5fc85ff26758f696344ace0c                     []   \n",
       "2  5fc85f606758f69634496fcd              [\"Drama\"]   \n",
       "3  5fc85f606758f69634496fd1              [\"Drama\"]   \n",
       "4  5fc85f606758f69634496fd4        [\"Documentary\"]   \n",
       "\n",
       "                                           image_url    imdb_id  \\\n",
       "0  film-poster/4/6/4/4/4/0/464440-football-freaks...        NaN   \n",
       "1  film-poster/2/4/5/5/0/0/245500-aftermath-0-230...  tt0586129   \n",
       "2  film-poster/9/3/3/1/8/93318-where-chimneys-are...  tt0045731   \n",
       "3                                                NaN  tt0187327   \n",
       "4  film-poster/4/5/4/6/0/3/454603-50-years-of-fab...  tt4769914   \n",
       "\n",
       "                                         imdb_link                 movie_id  \\\n",
       "0                                              NaN          football-freaks   \n",
       "1  http://www.imdb.com/title/tt0586129/maindetails           aftermath-1960   \n",
       "2  http://www.imdb.com/title/tt0045731/maindetails  where-chimneys-are-seen   \n",
       "3  http://www.imdb.com/title/tt0187327/maindetails   the-musicians-daughter   \n",
       "4  http://www.imdb.com/title/tt4769914/maindetails     50-years-of-fabulous   \n",
       "\n",
       "               movie_title original_language  \\\n",
       "0          Football Freaks                en   \n",
       "1                Aftermath                en   \n",
       "2  Where Chimneys Are Seen                ja   \n",
       "3  The Musician's Daughter                en   \n",
       "4     50 Years of Fabulous                en   \n",
       "\n",
       "                                            overview  popularity  \\\n",
       "0  Football crazy, football mad. Don’t watch this...       0.600   \n",
       "1  Aftermath was the pilot for an unsold TV serie...       0.600   \n",
       "2  Gosho’s most celebrated film both in Japan and...       1.568   \n",
       "3  Carl Wagner's good wife was dying. His heart b...       0.600   \n",
       "4  50 Years of Fabulous recounts the rich history...       0.600   \n",
       "\n",
       "           production_countries release_date  runtime spoken_languages  \\\n",
       "0            [\"United Kingdom\"]   1971-12-05      0.0               []   \n",
       "1                            []   1960-04-17     22.0               []   \n",
       "2                     [\"Japan\"]   1953-03-05    108.0          [\"日本語\"]   \n",
       "3  [\"United States of America\"]   1911-12-12     15.0               []   \n",
       "4                            []   2018-05-17     75.0               []   \n",
       "\n",
       "    tmdb_id                                 tmdb_link  vote_average  \\\n",
       "0  535272.0  https://www.themoviedb.org/movie/535272/           0.0   \n",
       "1  318331.0  https://www.themoviedb.org/movie/318331/           8.0   \n",
       "2  117779.0  https://www.themoviedb.org/movie/117779/           6.6   \n",
       "3  560377.0  https://www.themoviedb.org/movie/560377/           0.0   \n",
       "4  525187.0  https://www.themoviedb.org/movie/525187/           0.0   \n",
       "\n",
       "   vote_count  year_released  \n",
       "0         0.0         1971.0  \n",
       "1         1.0         1960.0  \n",
       "2        10.0         1953.0  \n",
       "3         0.0         1911.0  \n",
       "4         0.0         2018.0  "
      ],
      "text/html": [
       "<div>\n",
       "<style scoped>\n",
       "    .dataframe tbody tr th:only-of-type {\n",
       "        vertical-align: middle;\n",
       "    }\n",
       "\n",
       "    .dataframe tbody tr th {\n",
       "        vertical-align: top;\n",
       "    }\n",
       "\n",
       "    .dataframe thead th {\n",
       "        text-align: right;\n",
       "    }\n",
       "</style>\n",
       "<table border=\"1\" class=\"dataframe\">\n",
       "  <thead>\n",
       "    <tr style=\"text-align: right;\">\n",
       "      <th></th>\n",
       "      <th>_id</th>\n",
       "      <th>genres</th>\n",
       "      <th>image_url</th>\n",
       "      <th>imdb_id</th>\n",
       "      <th>imdb_link</th>\n",
       "      <th>movie_id</th>\n",
       "      <th>movie_title</th>\n",
       "      <th>original_language</th>\n",
       "      <th>overview</th>\n",
       "      <th>popularity</th>\n",
       "      <th>production_countries</th>\n",
       "      <th>release_date</th>\n",
       "      <th>runtime</th>\n",
       "      <th>spoken_languages</th>\n",
       "      <th>tmdb_id</th>\n",
       "      <th>tmdb_link</th>\n",
       "      <th>vote_average</th>\n",
       "      <th>vote_count</th>\n",
       "      <th>year_released</th>\n",
       "    </tr>\n",
       "  </thead>\n",
       "  <tbody>\n",
       "    <tr>\n",
       "      <th>0</th>\n",
       "      <td>5fc85f606758f69634496fd3</td>\n",
       "      <td>[\"Music\",\"Animation\"]</td>\n",
       "      <td>film-poster/4/6/4/4/4/0/464440-football-freaks...</td>\n",
       "      <td>NaN</td>\n",
       "      <td>NaN</td>\n",
       "      <td>football-freaks</td>\n",
       "      <td>Football Freaks</td>\n",
       "      <td>en</td>\n",
       "      <td>Football crazy, football mad. Don’t watch this...</td>\n",
       "      <td>0.600</td>\n",
       "      <td>[\"United Kingdom\"]</td>\n",
       "      <td>1971-12-05</td>\n",
       "      <td>0.0</td>\n",
       "      <td>[]</td>\n",
       "      <td>535272.0</td>\n",
       "      <td>https://www.themoviedb.org/movie/535272/</td>\n",
       "      <td>0.0</td>\n",
       "      <td>0.0</td>\n",
       "      <td>1971.0</td>\n",
       "    </tr>\n",
       "    <tr>\n",
       "      <th>1</th>\n",
       "      <td>5fc85ff26758f696344ace0c</td>\n",
       "      <td>[]</td>\n",
       "      <td>film-poster/2/4/5/5/0/0/245500-aftermath-0-230...</td>\n",
       "      <td>tt0586129</td>\n",
       "      <td>http://www.imdb.com/title/tt0586129/maindetails</td>\n",
       "      <td>aftermath-1960</td>\n",
       "      <td>Aftermath</td>\n",
       "      <td>en</td>\n",
       "      <td>Aftermath was the pilot for an unsold TV serie...</td>\n",
       "      <td>0.600</td>\n",
       "      <td>[]</td>\n",
       "      <td>1960-04-17</td>\n",
       "      <td>22.0</td>\n",
       "      <td>[]</td>\n",
       "      <td>318331.0</td>\n",
       "      <td>https://www.themoviedb.org/movie/318331/</td>\n",
       "      <td>8.0</td>\n",
       "      <td>1.0</td>\n",
       "      <td>1960.0</td>\n",
       "    </tr>\n",
       "    <tr>\n",
       "      <th>2</th>\n",
       "      <td>5fc85f606758f69634496fcd</td>\n",
       "      <td>[\"Drama\"]</td>\n",
       "      <td>film-poster/9/3/3/1/8/93318-where-chimneys-are...</td>\n",
       "      <td>tt0045731</td>\n",
       "      <td>http://www.imdb.com/title/tt0045731/maindetails</td>\n",
       "      <td>where-chimneys-are-seen</td>\n",
       "      <td>Where Chimneys Are Seen</td>\n",
       "      <td>ja</td>\n",
       "      <td>Gosho’s most celebrated film both in Japan and...</td>\n",
       "      <td>1.568</td>\n",
       "      <td>[\"Japan\"]</td>\n",
       "      <td>1953-03-05</td>\n",
       "      <td>108.0</td>\n",
       "      <td>[\"日本語\"]</td>\n",
       "      <td>117779.0</td>\n",
       "      <td>https://www.themoviedb.org/movie/117779/</td>\n",
       "      <td>6.6</td>\n",
       "      <td>10.0</td>\n",
       "      <td>1953.0</td>\n",
       "    </tr>\n",
       "    <tr>\n",
       "      <th>3</th>\n",
       "      <td>5fc85f606758f69634496fd1</td>\n",
       "      <td>[\"Drama\"]</td>\n",
       "      <td>NaN</td>\n",
       "      <td>tt0187327</td>\n",
       "      <td>http://www.imdb.com/title/tt0187327/maindetails</td>\n",
       "      <td>the-musicians-daughter</td>\n",
       "      <td>The Musician's Daughter</td>\n",
       "      <td>en</td>\n",
       "      <td>Carl Wagner's good wife was dying. His heart b...</td>\n",
       "      <td>0.600</td>\n",
       "      <td>[\"United States of America\"]</td>\n",
       "      <td>1911-12-12</td>\n",
       "      <td>15.0</td>\n",
       "      <td>[]</td>\n",
       "      <td>560377.0</td>\n",
       "      <td>https://www.themoviedb.org/movie/560377/</td>\n",
       "      <td>0.0</td>\n",
       "      <td>0.0</td>\n",
       "      <td>1911.0</td>\n",
       "    </tr>\n",
       "    <tr>\n",
       "      <th>4</th>\n",
       "      <td>5fc85f606758f69634496fd4</td>\n",
       "      <td>[\"Documentary\"]</td>\n",
       "      <td>film-poster/4/5/4/6/0/3/454603-50-years-of-fab...</td>\n",
       "      <td>tt4769914</td>\n",
       "      <td>http://www.imdb.com/title/tt4769914/maindetails</td>\n",
       "      <td>50-years-of-fabulous</td>\n",
       "      <td>50 Years of Fabulous</td>\n",
       "      <td>en</td>\n",
       "      <td>50 Years of Fabulous recounts the rich history...</td>\n",
       "      <td>0.600</td>\n",
       "      <td>[]</td>\n",
       "      <td>2018-05-17</td>\n",
       "      <td>75.0</td>\n",
       "      <td>[]</td>\n",
       "      <td>525187.0</td>\n",
       "      <td>https://www.themoviedb.org/movie/525187/</td>\n",
       "      <td>0.0</td>\n",
       "      <td>0.0</td>\n",
       "      <td>2018.0</td>\n",
       "    </tr>\n",
       "  </tbody>\n",
       "</table>\n",
       "</div>"
      ]
     },
     "execution_count": 11,
     "metadata": {},
     "output_type": "execute_result"
    }
   ],
   "execution_count": 11
  },
  {
   "cell_type": "code",
   "execution_count": 19,
   "id": "73f40a7d-4d10-4244-a576-e0e42cbadfc5",
   "metadata": {},
   "outputs": [
    {
     "data": {
      "text/html": [
       "<div>\n",
       "<style scoped>\n",
       "    .dataframe tbody tr th:only-of-type {\n",
       "        vertical-align: middle;\n",
       "    }\n",
       "\n",
       "    .dataframe tbody tr th {\n",
       "        vertical-align: top;\n",
       "    }\n",
       "\n",
       "    .dataframe thead th {\n",
       "        text-align: right;\n",
       "    }\n",
       "</style>\n",
       "<table border=\"1\" class=\"dataframe\">\n",
       "  <thead>\n",
       "    <tr style=\"text-align: right;\">\n",
       "      <th></th>\n",
       "      <th>_id</th>\n",
       "      <th>movie_id</th>\n",
       "      <th>rating_val</th>\n",
       "      <th>user_id</th>\n",
       "    </tr>\n",
       "  </thead>\n",
       "  <tbody>\n",
       "    <tr>\n",
       "      <th>0</th>\n",
       "      <td>5fc57c5d6758f6963451a07f</td>\n",
       "      <td>feast-2014</td>\n",
       "      <td>7</td>\n",
       "      <td>deathproof</td>\n",
       "    </tr>\n",
       "    <tr>\n",
       "      <th>1</th>\n",
       "      <td>5fc57c5d6758f6963451a063</td>\n",
       "      <td>loving-2016</td>\n",
       "      <td>7</td>\n",
       "      <td>deathproof</td>\n",
       "    </tr>\n",
       "    <tr>\n",
       "      <th>2</th>\n",
       "      <td>5fc57c5d6758f6963451a0ef</td>\n",
       "      <td>scripted-content</td>\n",
       "      <td>7</td>\n",
       "      <td>deathproof</td>\n",
       "    </tr>\n",
       "    <tr>\n",
       "      <th>3</th>\n",
       "      <td>5fc57c5d6758f6963451a060</td>\n",
       "      <td>the-future</td>\n",
       "      <td>4</td>\n",
       "      <td>deathproof</td>\n",
       "    </tr>\n",
       "    <tr>\n",
       "      <th>4</th>\n",
       "      <td>5fc57c5c6758f69634519398</td>\n",
       "      <td>mank</td>\n",
       "      <td>5</td>\n",
       "      <td>deathproof</td>\n",
       "    </tr>\n",
       "  </tbody>\n",
       "</table>\n",
       "</div>"
      ],
      "text/plain": [
       "                        _id          movie_id  rating_val     user_id\n",
       "0  5fc57c5d6758f6963451a07f        feast-2014           7  deathproof\n",
       "1  5fc57c5d6758f6963451a063       loving-2016           7  deathproof\n",
       "2  5fc57c5d6758f6963451a0ef  scripted-content           7  deathproof\n",
       "3  5fc57c5d6758f6963451a060        the-future           4  deathproof\n",
       "4  5fc57c5c6758f69634519398              mank           5  deathproof"
      ]
     },
     "execution_count": 19,
     "metadata": {},
     "output_type": "execute_result"
    }
   ],
   "source": [
    "ratings.head()"
   ]
  },
  {
   "cell_type": "code",
   "execution_count": 93,
   "id": "bbdcbfdc-9ee9-4239-a859-ee9c71e1b360",
   "metadata": {},
   "outputs": [
    {
     "name": "stdout",
     "output_type": "stream",
     "text": [
      "0\n"
     ]
    }
   ],
   "source": [
    "# Check for missing values\n",
    "print(ratings['rating_val'].isnull().sum())\n",
    "\n",
    "# Remove any missing values if necessary\n",
    "ratings = ratings.dropna(subset=['rating_val'])\n"
   ]
  },
  {
   "cell_type": "code",
   "id": "99c6df4e-1168-47a4-b294-3fe7c8375fe8",
   "metadata": {
    "ExecuteTime": {
     "end_time": "2024-11-04T13:50:37.559730Z",
     "start_time": "2024-11-04T13:50:37.177820Z"
    }
   },
   "source": [
    "plt.hist(ratings['rating_val'], density=False, bins=10)\n",
    "plt.title(\"Histogram of range of reviews\")\n",
    "plt.xlabel(\"ratings\")\n",
    "plt.ylabel(\"value\")\n",
    "plt.show()"
   ],
   "outputs": [
    {
     "data": {
      "text/plain": [
       "<Figure size 640x480 with 1 Axes>"
      ],
      "image/png": "[encoded data removed]"
     },
     "metadata": {},
     "output_type": "display_data"
    }
   ],
   "execution_count": 12
  },
  {
   "cell_type": "raw",
   "id": "cf4e2822-1572-431e-b5c6-2a88e890ad50",
   "metadata": {},
   "source": []
  },
  {
   "cell_type": "code",
   "execution_count": 32,
   "id": "c3e822c2-e37b-4f1b-8599-9b14ef435233",
   "metadata": {},
   "outputs": [
    {
     "data": {
      "text/html": [
       "<div>\n",
       "<style scoped>\n",
       "    .dataframe tbody tr th:only-of-type {\n",
       "        vertical-align: middle;\n",
       "    }\n",
       "\n",
       "    .dataframe tbody tr th {\n",
       "        vertical-align: top;\n",
       "    }\n",
       "\n",
       "    .dataframe thead th {\n",
       "        text-align: right;\n",
       "    }\n",
       "</style>\n",
       "<table border=\"1\" class=\"dataframe\">\n",
       "  <thead>\n",
       "    <tr style=\"text-align: right;\">\n",
       "      <th></th>\n",
       "      <th>_id</th>\n",
       "      <th>display_name</th>\n",
       "      <th>num_ratings_pages</th>\n",
       "      <th>num_reviews</th>\n",
       "      <th>username</th>\n",
       "    </tr>\n",
       "  </thead>\n",
       "  <tbody>\n",
       "    <tr>\n",
       "      <th>0</th>\n",
       "      <td>5fc4172ec6cd28ebd99dd0e2</td>\n",
       "      <td>Lucy</td>\n",
       "      <td>32.0</td>\n",
       "      <td>1650</td>\n",
       "      <td>deathproof</td>\n",
       "    </tr>\n",
       "    <tr>\n",
       "      <th>1</th>\n",
       "      <td>5fc4172ec6cd28ebd99dd0ea</td>\n",
       "      <td>Matt Singer</td>\n",
       "      <td>52.0</td>\n",
       "      <td>1915</td>\n",
       "      <td>superpulse</td>\n",
       "    </tr>\n",
       "    <tr>\n",
       "      <th>2</th>\n",
       "      <td>5fc4172ec6cd28ebd99dd0ed</td>\n",
       "      <td>Sean Baker</td>\n",
       "      <td>21.0</td>\n",
       "      <td>1283</td>\n",
       "      <td>lilfilm</td>\n",
       "    </tr>\n",
       "    <tr>\n",
       "      <th>3</th>\n",
       "      <td>5fc4172ec6cd28ebd99dd0ee</td>\n",
       "      <td>iana</td>\n",
       "      <td>37.0</td>\n",
       "      <td>1177</td>\n",
       "      <td>ianamurray</td>\n",
       "    </tr>\n",
       "    <tr>\n",
       "      <th>4</th>\n",
       "      <td>5fc419171ebf67b9fbe48615</td>\n",
       "      <td>Lizzy</td>\n",
       "      <td>57.0</td>\n",
       "      <td>1810</td>\n",
       "      <td>punchdrunklizzy</td>\n",
       "    </tr>\n",
       "  </tbody>\n",
       "</table>\n",
       "</div>"
      ],
      "text/plain": [
       "                        _id display_name  num_ratings_pages  num_reviews  \\\n",
       "0  5fc4172ec6cd28ebd99dd0e2         Lucy               32.0         1650   \n",
       "1  5fc4172ec6cd28ebd99dd0ea  Matt Singer               52.0         1915   \n",
       "2  5fc4172ec6cd28ebd99dd0ed   Sean Baker               21.0         1283   \n",
       "3  5fc4172ec6cd28ebd99dd0ee         iana               37.0         1177   \n",
       "4  5fc419171ebf67b9fbe48615        Lizzy               57.0         1810   \n",
       "\n",
       "          username  \n",
       "0       deathproof  \n",
       "1       superpulse  \n",
       "2          lilfilm  \n",
       "3       ianamurray  \n",
       "4  punchdrunklizzy  "
      ]
     },
     "execution_count": 32,
     "metadata": {},
     "output_type": "execute_result"
    }
   ],
   "source": [
    "users.head()"
   ]
  },
  {
   "cell_type": "code",
   "execution_count": 75,
   "id": "ecb5710a-bbaa-4a11-9e6b-2eae64df46ac",
   "metadata": {},
   "outputs": [
    {
     "data": {
      "text/plain": [
       "(11078167, 4)"
      ]
     },
     "execution_count": 75,
     "metadata": {},
     "output_type": "execute_result"
    }
   ],
   "source": [
    "ratings.shape"
   ]
  },
  {
   "cell_type": "markdown",
   "id": "5aa9e490-a38f-4ba5-893d-22705c6afb61",
   "metadata": {},
   "source": [
    "### Plotting graphs "
   ]
  },
  {
   "cell_type": "code",
   "execution_count": 54,
   "id": "c4b6c0e0-46f4-44f6-9baf-4a7f23999ca0",
   "metadata": {},
   "outputs": [
    {
     "name": "stdout",
     "output_type": "stream",
     "text": [
      "Features: 0            deathproof\n",
      "1            superpulse\n",
      "2               lilfilm\n",
      "3            ianamurray\n",
      "4       punchdrunklizzy\n",
      "             ...       \n",
      "8134        mateazember\n",
      "8135           finnvor1\n",
      "8136             daniel\n",
      "8137     butterflyfilms\n",
      "8138        poellnerson\n",
      "Name: username, Length: 8139, dtype: object\n"
     ]
    }
   ],
   "source": [
    "features = users['username']\n",
    "print(f\"Features: {features}\")"
   ]
  },
  {
   "cell_type": "code",
   "execution_count": 67,
   "id": "f16983f5-fab0-415a-a492-646802e9d451",
   "metadata": {},
   "outputs": [
    {
     "data": {
      "image/png": "[encoded data removed]",
      "text/plain": [
       "<Figure size 640x480 with 1 Axes>"
      ]
     },
     "metadata": {},
     "output_type": "display_data"
    }
   ],
   "source": [
    "movies[\"year_released\"].hist()\n",
    "plt.title(\"Histogram of years movies are released\")\n",
    "plt.xlabel(\"year\")\n",
    "plt.show()"
   ]
  },
  {
   "cell_type": "code",
   "execution_count": 73,
   "id": "4d4645c4-560e-439d-9a3a-c23e127c75dc",
   "metadata": {},
   "outputs": [
    {
     "data": {
      "image/png": "[encoded data removed]",
      "text/plain": [
       "<Figure size 640x480 with 1 Axes>"
      ]
     },
     "metadata": {},
     "output_type": "display_data"
    }
   ],
   "source": [
    "ratings[\"user_id\"].hist()\n",
    "plt.title(\"Histogram of users reviews\")\n",
    "plt.xlabel(\"Username\")\n",
    "plt.show()"
   ]
  }
 ],
 "metadata": {
  "kernelspec": {
   "display_name": "Python 3 (ipykernel)",
   "language": "python",
   "name": "python3"
  },
  "language_info": {
   "codemirror_mode": {
    "name": "ipython",
    "version": 3
   },
   "file_extension": ".py",
   "mimetype": "text/x-python",
   "name": "python",
   "nbconvert_exporter": "python",
   "pygments_lexer": "ipython3",
   "version": "3.12.4"
  }
 },
 "nbformat": 4,
 "nbformat_minor": 5
}
